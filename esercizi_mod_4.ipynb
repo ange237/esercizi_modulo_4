{
 "cells": [
  {
   "cell_type": "code",
   "execution_count": 30,
   "id": "8fb09e3d",
   "metadata": {},
   "outputs": [
    {
     "name": "stdout",
     "output_type": "stream",
     "text": [
      "['Ciao', 'come', 'Carmen']\n"
     ]
    }
   ],
   "source": [
    "\"\"\"1) Trovare tutte le parole che iniziano con \"c\" in nella stringa Ciao come sta Carmen? Lei sta bene.\"\"\"\n",
    "import re\n",
    "\n",
    "text = \"Ciao come sta Carmen? Lei sta bene\"\n",
    "#pattern = r\"^[cC].*\"\n",
    "parole = re.findall(r\"\\b[cC]\\w*\\b\",text)\n",
    "print(parole)"
   ]
  },
  {
   "cell_type": "code",
   "execution_count": 29,
   "id": "79e5376f",
   "metadata": {},
   "outputs": [
    {
     "name": "stdout",
     "output_type": "stream",
     "text": [
      "['mario.rossi@email.it']\n"
     ]
    }
   ],
   "source": [
    "\"\"\"2) Trovare tutte le email presenti nella stringa Il mio indirizzo email è mario.rossi@email.it\"\"\"\n",
    "import re\n",
    "text = \"Il mio indirizzo email è mario.rossi@email.it\"\n",
    "parole = re.findall(r\"\\b[a-zA-Z]+.[a-zA-Z]+@email.it\\b\",text)\n",
    "print(parole)"
   ]
  },
  {
   "cell_type": "code",
   "execution_count": 28,
   "id": "2cad5267",
   "metadata": {},
   "outputs": [
    {
     "name": "stdout",
     "output_type": "stream",
     "text": [
      "['mia', 'miei']\n"
     ]
    }
   ],
   "source": [
    "\"\"\"3) Trovare tutte le parole che contengono due vocali consecutive nella stringa La mia mamma è\n",
    "andata al mare con i miei amici.\"\"\"\n",
    "\n",
    "import re\n",
    "text = \"La mia mamma è andata al mare con i miei amici.\"\n",
    "result = re.findall(r\"\\b\\w*[aeoui]{2}\\b\",text)\n",
    "print(result)"
   ]
  },
  {
   "cell_type": "code",
   "execution_count": null,
   "id": "921622bf",
   "metadata": {},
   "outputs": [
    {
     "name": "stdout",
     "output_type": "stream",
     "text": [
      "['sono', 'ma', 'preferisco']\n"
     ]
    }
   ],
   "source": [
    "\"\"\"4) Trovare tutte le parole che terminano con a oppure o nella stringa Le mele sono buone ma\n",
    "preferisco le pere.\"\"\"\n",
    "\n",
    "import re\n",
    "text = \"Le mele sono buone ma preferisco le pere.\"\n",
    "result = re.findall(r\"\\b\\w*[ao]\\b\",text) #iniziano con un qualsiasi carattere qua le \\b servono un po per delimitare le parole perche si stanno cercando parole.\n",
    "print(result)"
   ]
  },
  {
   "cell_type": "code",
   "execution_count": 27,
   "id": "a2a01a68",
   "metadata": {},
   "outputs": [
    {
     "name": "stdout",
     "output_type": "stream",
     "text": [
      "['Sole']\n"
     ]
    }
   ],
   "source": [
    "\"\"\"5) Trovare le parole con iniziale maiuscola nella stringa Il Sole è una stella di rara bellezza.\"\"\"\n",
    "import re\n",
    "text = \"Sole è una stella di rara bellezza.\"\n",
    "result = re.findall(r\"\\b[A-Z]\\w*\\b\",text)\n",
    "print(result)"
   ]
  },
  {
   "cell_type": "code",
   "execution_count": 31,
   "id": "8bd1d72f",
   "metadata": {},
   "outputs": [
    {
     "name": "stdout",
     "output_type": "stream",
     "text": [
      "['La', ' mela', ' è', ' buona', ' ma', ' preferisco', ' le', ' pere']\n"
     ]
    }
   ],
   "source": [
    "\"\"\"6) Trovare tutte le parole che non iniziano con una vocale nella stringa La mela è buona ma\n",
    "preferisco le pere.\"\"\"\n",
    "\n",
    "import re\n",
    "text = \"La mela è buona ma preferisco le pere.\"\n",
    "result = re.findall(r\"\\b[^aeoui]\\w*\\b\",text)\n",
    "print(result)"
   ]
  },
  {
   "cell_type": "code",
   "execution_count": null,
   "id": "c7da646b",
   "metadata": {},
   "outputs": [
    {
     "name": "stdout",
     "output_type": "stream",
     "text": [
      "Lx mxx cxsx è grxndx x xccxglxxntx\n"
     ]
    }
   ],
   "source": [
    "\"\"\"7) Sostituire tutte le vocali presenti nella stringa La mia casa è grande e accogliente con la lettera x.\"\"\"\n",
    "import re \n",
    "text = \"La mia casa è grande e accogliente\"\n",
    "result = re.sub(\"[aeouiAEOUI]\",\"x\",text) # viene sostituito tutto il pattern . quindi occhio quando si fa l'operazione di sub\n",
    "print(result)"
   ]
  },
  {
   "cell_type": "code",
   "execution_count": 33,
   "id": "34d7da27",
   "metadata": {},
   "outputs": [
    {
     "name": "stdout",
     "output_type": "stream",
     "text": [
      "[]\n"
     ]
    }
   ],
   "source": [
    "\"\"\"8) Trovare le parole che contengono are nella stringa Gli studenti stanno studiando per gli esami.\"\"\"\n",
    "\n",
    "import re\n",
    "text = \"Gli studenti stanno studiando per gli esami.\"\n",
    "result = re.findall(r\"\\b\\w*are\\w*\\b\",text)\n",
    "print(result)"
   ]
  },
  {
   "cell_type": "code",
   "execution_count": null,
   "id": "f2287760",
   "metadata": {},
   "outputs": [
    {
     "name": "stdout",
     "output_type": "stream",
     "text": [
      "corrispondenza trovata.\n"
     ]
    }
   ],
   "source": [
    "\"\"\"9) Scrivere un listato che accetti una stringa di input e verifichi se inizia con una lettera maiuscola\n",
    "seguita da una o più lettere minuscole.\"\"\"\n",
    "\n",
    "import re\n",
    "\n",
    "try:\n",
    " text = input(\"inserire la vostra stringa: \") # stinga di test erà : Ange è bello\n",
    "except:\n",
    " print(\"Errore successo.\") \n",
    "\n",
    "match = re.match(r\"^[A-Z][a-z]+\",text) # si applica a l'inizio  la stringa \n",
    "if match:\n",
    " print(\"corrispondenza trovata.\")\n",
    "else:\n",
    " print(\"trovata nessuna corrispondenza.\") "
   ]
  },
  {
   "cell_type": "code",
   "execution_count": null,
   "id": "45971ff3",
   "metadata": {},
   "outputs": [
    {
     "name": "stdout",
     "output_type": "stream",
     "text": [
      "c'è match\n"
     ]
    }
   ],
   "source": [
    "\"\"\"10) Scrivere un listato che verifichi se una stringa di input contiene almeno una cifra.\"\"\"\n",
    "\n",
    "import re\n",
    "text = input(\"inserire la stringa: \")\n",
    "match = re.search(r\"[0-9]+\",text)# oppure r\"\\d+\"\n",
    "if match:\n",
    "    print(\"c'è match\")\n",
    "else:\n",
    "    print(\"non c'è match\")    "
   ]
  },
  {
   "cell_type": "code",
   "execution_count": null,
   "id": "93aa9571",
   "metadata": {},
   "outputs": [
    {
     "name": "stdout",
     "output_type": "stream",
     "text": [
      "è pallindroma\n"
     ]
    }
   ],
   "source": [
    "\"\"\"11) Scrivere un listato che verifichi se una stringa di input è una parola palindroma.\"\"\"\n",
    "import re\n",
    "text = input(\"inserire il vostro testo: \")\n",
    "match = re.match(r\"(\\w+)\\s*\\1$\",text)\n",
    "\n",
    "if match:\n",
    "    print(\"è pallindroma\")\n",
    "else:\n",
    "    print(\"non è palindroma\")    \n",
    "\n",
    "    # non ho proprio capito questo esercizio"
   ]
  },
  {
   "cell_type": "code",
   "execution_count": null,
   "id": "7fa7b38b",
   "metadata": {},
   "outputs": [
    {
     "name": "stdout",
     "output_type": "stream",
     "text": [
      "no match\n"
     ]
    }
   ],
   "source": [
    "\"\"\"12) Anche uno che verifichi se una stringa di input è composta solo da caratteri alfabetici minuscoli.\"\"\"\n",
    "\n",
    "import re\n",
    "text = input(\"inserire la stringa:\")\n",
    "match = re.match(\"[a-z]+$\",text) #la stringa va confrontato interramente\n",
    "if match:\n",
    "    print(\"c'è match\")\n",
    "else:\n",
    "    print(\"no match\")    "
   ]
  },
  {
   "cell_type": "code",
   "execution_count": null,
   "id": "95fd9e0a",
   "metadata": {},
   "outputs": [],
   "source": [
    "\"\"\"13) Verificare se una stringa corrisponde a un pattern utilizzando re.match().\"\"\"\n",
    "\n",
    "import re\n",
    "match = re.match(r\"^[A-Z][a-z]+\",text) # si applica a tutta la stringa \n",
    "if match:\n",
    " print(\"corrispondenza trovata.\")\n",
    "else:\n",
    " print(\"trovata nessuna corrispondenza.\")"
   ]
  },
  {
   "cell_type": "code",
   "execution_count": null,
   "id": "0c55fa1f",
   "metadata": {},
   "outputs": [],
   "source": [
    "\"\"\"14) Sostituire tutte le occorrenze di un pattern in una stringa utilizzando re.sub().\"\"\"\n",
    "\n",
    "import re \n",
    "text = \"La mia casa è grande e accogliente\"\n",
    "result = re.sub(\"[aeouiAEOUI]\",\"x\",text) # viene sostituito tutto il pattern . quindi occhio quando si fa l'operazione di sub\n",
    "print(result)"
   ]
  },
  {
   "cell_type": "code",
   "execution_count": null,
   "id": "5d9899c9",
   "metadata": {},
   "outputs": [],
   "source": [
    "\"\"\"15) Verificare se una stringa contiene un pattern utilizzando re.search().\"\"\"\n",
    "\n",
    "import re\n",
    "text = input(\"inserire la stringa: \")\n",
    "match = re.search(r\"[0-9]+\",text)# oppure r\"\\d+\"\n",
    "if match:\n",
    "    print(\"c'è match\")\n",
    "else:\n",
    "    print(\"non c'è match\")  "
   ]
  },
  {
   "cell_type": "code",
   "execution_count": 19,
   "id": "f9b76a91",
   "metadata": {},
   "outputs": [
    {
     "name": "stdout",
     "output_type": "stream",
     "text": [
      "['questra', 'stringa', 'va', 'divisa', 'usando', 'split']\n"
     ]
    }
   ],
   "source": [
    "\"\"\"16) Dividere una stringa in una lista utilizzando re.split().\"\"\"\n",
    "\n",
    "text = \"questra stringa va divisa usando split\"\n",
    "result = re.split(\" \",text)\n",
    "print(result)"
   ]
  },
  {
   "cell_type": "code",
   "execution_count": null,
   "id": "c54e54df",
   "metadata": {},
   "outputs": [],
   "source": [
    "\"\"\"17) Verificare se una stringa corrisponde esattamente a un pattern utilizzando re.fullmatch().\"\"\"\n",
    "\n",
    "import re\n",
    "match = re.fullmatch(r\"^[A-Z][a-z]+\",text) # si applica a tutta  la stringa \n",
    "if match:\n",
    " print(\"corrispondenza trovata.\")\n",
    "else:\n",
    " print(\"trovata nessuna corrispondenza.\") "
   ]
  },
  {
   "cell_type": "code",
   "execution_count": 29,
   "id": "d94f3e46",
   "metadata": {},
   "outputs": [
    {
     "name": "stdout",
     "output_type": "stream",
     "text": [
      "mare\n",
      "programmare\n"
     ]
    }
   ],
   "source": [
    "\"\"\"18) Trovare tutte le corrispondenze di un pattern utilizzando re.finditer().\"\"\"\n",
    "\n",
    "import re\n",
    "text = \"Gli studenti stanno studiando per gli esami al mare senza programmare.\"\n",
    "result = re.finditer(r\"\\b\\w*are\\w*\\b\",text)\n",
    "\n",
    "for match in result:\n",
    "    print(match.group())"
   ]
  },
  {
   "cell_type": "code",
   "execution_count": null,
   "id": "ad961cb0",
   "metadata": {},
   "outputs": [],
   "source": [
    "\"\"\"19) Scrivere un listato che esce se una stringa non corrisponde a un pattern, usando re.match().\"\"\""
   ]
  },
  {
   "cell_type": "code",
   "execution_count": 31,
   "id": "8ccd73cd",
   "metadata": {},
   "outputs": [
    {
     "name": "stdout",
     "output_type": "stream",
     "text": [
      "trovato\n"
     ]
    }
   ],
   "source": [
    "\"\"\"20) Verificare se una stringa corrisponde a un pattern, ignorando la differenza tra maiuscole e\n",
    "minuscole con re.IGNORECASE.\"\"\"\n",
    "\n",
    "import re\n",
    "text = \"Gli studenti stanno studiando per gli esami al mARE senza programmare.\"\n",
    "match = re.search(r\"\\b\\w*are\\w*\\b\",text,re.IGNORECASE)\n",
    "\n",
    "if match:\n",
    "    print(\"trovato\")\n",
    "else:\n",
    "    print(\"non trovato\")    "
   ]
  },
  {
   "cell_type": "code",
   "execution_count": null,
   "id": "f575c2be",
   "metadata": {},
   "outputs": [],
   "source": [
    "\"\"\"21) Qual è il metodo da utilizzare se si vuole cercare una corrispondenza all'inizio della stringa?\"\"\"\n",
    "# match"
   ]
  },
  {
   "cell_type": "code",
   "execution_count": null,
   "id": "8cc7777f",
   "metadata": {},
   "outputs": [],
   "source": [
    "\"\"\"22) Qual è il metodo da utilizzare se si vuole cercare una corrispondenza esatta con l'intera stringa?\"\"\"\n",
    "#si tratta del metodo fullmatch"
   ]
  },
  {
   "cell_type": "code",
   "execution_count": null,
   "id": "f1c09d13",
   "metadata": {},
   "outputs": [],
   "source": [
    "\"\"\"23) Quale metodo utilizzare per sostituire tutte le occorrenze della regex con un'altra stringa?\"\"\"\n",
    "#si tratta del metodo sub del modulo re"
   ]
  },
  {
   "cell_type": "code",
   "execution_count": null,
   "id": "49ed6a22",
   "metadata": {},
   "outputs": [],
   "source": [
    "\"\"\"24) Qual è l'opzione da utilizzare per impostare la ricerca dot-all?\"\"\"\n",
    "# si usa il metodo re.S"
   ]
  },
  {
   "cell_type": "code",
   "execution_count": null,
   "id": "52bc378f",
   "metadata": {},
   "outputs": [],
   "source": [
    "\"\"\"25) Qual è l'opzione da utilizzare per impostare l'uso del flag UNICODE?\"\"\"\n",
    "# si usa re.U"
   ]
  },
  {
   "cell_type": "code",
   "execution_count": null,
   "id": "77681ebb",
   "metadata": {},
   "outputs": [],
   "source": [
    "\"\"\"26) Quale metodo utilizzare per trovare tutte le corrispondenze della regex in una stringa?\"\"\"\n",
    "# findall"
   ]
  },
  {
   "cell_type": "code",
   "execution_count": null,
   "id": "69238ebe",
   "metadata": {},
   "outputs": [],
   "source": [
    "\"\"\"27) Cosa fa il metodo re.escape()?\"\"\"\n",
    "# è usato per scappare i caratteri speciali di una stringa, quindi trattargli come parte del testo e non come meta caratteri"
   ]
  },
  {
   "cell_type": "code",
   "execution_count": null,
   "id": "6b406c4c",
   "metadata": {},
   "outputs": [],
   "source": [
    "\"\"\"28) Cosa fa il metodo re.purge()?\"\"\"\n",
    "# rimuove tutte le cache interne della libreria re"
   ]
  },
  {
   "cell_type": "code",
   "execution_count": null,
   "id": "2b496f82",
   "metadata": {},
   "outputs": [],
   "source": [
    "\"\"\"29) Qual è l'opzione da utilizzare per impostare la ricerca multilinea?\"\"\"\n",
    "# re.MULTILINE"
   ]
  },
  {
   "cell_type": "code",
   "execution_count": 36,
   "id": "639e08b2",
   "metadata": {},
   "outputs": [
    {
     "name": "stdout",
     "output_type": "stream",
     "text": [
      "Il nuovo testo è:\n",
      "Questo è un testo con una parola cattiva, ma possiamo cambiarla con una buona.\n"
     ]
    }
   ],
   "source": [
    "\"\"\"30) Correggere il listato in modo che l'utente possa inserire una parola cattiva e una parola buona. Il\n",
    "programma deve creare un oggetto regex che cerchi la parola cattiva nel testo, ignorando maiuscole\n",
    "e minuscole, e la sostituisca con la parola buona:\"\"\"\n",
    "\n",
    "import re\n",
    "text = \"Questo è un testo con una parola cattiva, ma possiamo cambiarla con una buona.\"\n",
    "\n",
    "cattiva = input(\"Inserisci la parola che vuoi cambiare: \")\n",
    "buona = input(\"Inserisci la parola che subentrerà: \")\n",
    "patt = re.compile(r'\\b' + cattiva + '\\b'.format(re.escape(cattiva)), re.IGNORECASE)\n",
    "nuovo_testo = patt.sub(buona,text)\n",
    "print(\"Il nuovo testo è:\\n{}\".format(nuovo_testo))"
   ]
  },
  {
   "cell_type": "markdown",
   "id": "b7bb46db",
   "metadata": {},
   "source": []
  }
 ],
 "metadata": {
  "kernelspec": {
   "display_name": "env",
   "language": "python",
   "name": "python3"
  },
  "language_info": {
   "codemirror_mode": {
    "name": "ipython",
    "version": 3
   },
   "file_extension": ".py",
   "mimetype": "text/x-python",
   "name": "python",
   "nbconvert_exporter": "python",
   "pygments_lexer": "ipython3",
   "version": "3.13.3"
  }
 },
 "nbformat": 4,
 "nbformat_minor": 5
}
