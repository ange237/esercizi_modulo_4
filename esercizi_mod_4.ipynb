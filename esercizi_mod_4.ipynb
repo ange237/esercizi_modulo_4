{
 "cells": [
  {
   "cell_type": "code",
   "execution_count": 9,
   "id": "8fb09e3d",
   "metadata": {},
   "outputs": [
    {
     "name": "stdout",
     "output_type": "stream",
     "text": [
      "['Ciao', 'come', 'Carmen']\n"
     ]
    }
   ],
   "source": [
    "\"\"\"1) Trovare tutte le parole che iniziano con \"c\" in nella stringa Ciao come sta Carmen? Lei sta bene.\"\"\"\n",
    "import re\n",
    "\n",
    "text = \"Ciao come sta Carmen? Lei sta bene\"\n",
    "#pattern = r\"^[cC].*\"\n",
    "parole = re.findall(r\"\\b[cC]\\w*\",text)\n",
    "print(parole)"
   ]
  },
  {
   "cell_type": "code",
   "execution_count": null,
   "id": "79e5376f",
   "metadata": {},
   "outputs": [
    {
     "name": "stdout",
     "output_type": "stream",
     "text": [
      "['@email.it']\n"
     ]
    }
   ],
   "source": [
    "\"\"\"2) Trovare tutte le email presenti nella stringa Il mio indirizzo email è mario.rossi@email.it\"\"\"\n",
    "import re\n",
    "text = \"Il mio indirizzo email è mario.rossi@email.it\"\n",
    "parole = re.findall(r\"\\b[a-zA-Z]+.[a-zA-Z]+@email.it$\",text)\n",
    "print(parole)"
   ]
  },
  {
   "cell_type": "code",
   "execution_count": null,
   "id": "2cad5267",
   "metadata": {},
   "outputs": [],
   "source": [
    "\"\"\"3) Trovare tutte le parole che contengono due vocali consecutive nella stringa La mia mamma è\n",
    "andata al mare con i miei amici.\"\"\""
   ]
  },
  {
   "cell_type": "code",
   "execution_count": null,
   "id": "921622bf",
   "metadata": {},
   "outputs": [],
   "source": [
    "\"\"\"4) Trovare tutte le parole che terminano con a oppure o nella stringa Le mele sono buone ma\n",
    "preferisco le pere.\"\"\""
   ]
  },
  {
   "cell_type": "code",
   "execution_count": null,
   "id": "a2a01a68",
   "metadata": {},
   "outputs": [],
   "source": [
    "\"\"\"5) Trovare le parole con iniziale maiuscola nella stringa Il Sole è una stella di rara bellezza.\"\"\""
   ]
  },
  {
   "cell_type": "code",
   "execution_count": null,
   "id": "8bd1d72f",
   "metadata": {},
   "outputs": [],
   "source": [
    "\"\"\"6) Trovare tutte le parole che non iniziano con una vocale nella stringa La mela è buona ma\n",
    "preferisco le pere.\"\"\""
   ]
  },
  {
   "cell_type": "code",
   "execution_count": null,
   "id": "c7da646b",
   "metadata": {},
   "outputs": [],
   "source": [
    "\"\"\"7) Sostituire tutte le vocali presenti nella stringa La mia casa è grande e accogliente con la lettera x.\"\"\""
   ]
  },
  {
   "cell_type": "code",
   "execution_count": null,
   "id": "34d7da27",
   "metadata": {},
   "outputs": [],
   "source": [
    "\"\"\"8) Trovare le parole che contengono are nella stringa Gli studenti stanno studiando per gli esami.\"\"\""
   ]
  },
  {
   "cell_type": "code",
   "execution_count": null,
   "id": "f2287760",
   "metadata": {},
   "outputs": [],
   "source": [
    "\"\"\"9) Scrivere un listato che accetti una stringa di input e verifichi se inizia con una lettera maiuscola\n",
    "seguita da una o più lettere minuscole.\"\"\""
   ]
  },
  {
   "cell_type": "code",
   "execution_count": null,
   "id": "45971ff3",
   "metadata": {},
   "outputs": [],
   "source": [
    "\"\"\"10) Scrivere un listato che verifichi se una stringa di input contiene almeno una cifra.\"\"\""
   ]
  },
  {
   "cell_type": "code",
   "execution_count": null,
   "id": "93aa9571",
   "metadata": {},
   "outputs": [],
   "source": [
    "\"\"\"11) Scrivere un listato che verifichi se una stringa di input è una parola palindroma.\"\"\""
   ]
  },
  {
   "cell_type": "code",
   "execution_count": null,
   "id": "7fa7b38b",
   "metadata": {},
   "outputs": [],
   "source": [
    "\"\"\"12) Anche uno che verifichi se una stringa di input è composta solo da caratteri alfabetici minuscoli.\"\"\""
   ]
  },
  {
   "cell_type": "code",
   "execution_count": null,
   "id": "95fd9e0a",
   "metadata": {},
   "outputs": [],
   "source": [
    "\"\"\"13) Verificare se una stringa corrisponde a un pattern utilizzando re.match().\"\"\""
   ]
  },
  {
   "cell_type": "code",
   "execution_count": null,
   "id": "8ccd73cd",
   "metadata": {},
   "outputs": [],
   "source": [
    "\"\"\"20) Verificare se una stringa corrisponde a un pattern, ignorando la differenza tra maiuscole e\n",
    "minuscole con re.IGNORECASE.\"\"\""
   ]
  },
  {
   "cell_type": "code",
   "execution_count": null,
   "id": "f575c2be",
   "metadata": {},
   "outputs": [],
   "source": [
    "\"\"\"21) Qual è il metodo da utilizzare se si vuole cercare una corrispondenza all'inizio della stringa?\"\"\"\n",
    "# match"
   ]
  },
  {
   "cell_type": "code",
   "execution_count": null,
   "id": "8cc7777f",
   "metadata": {},
   "outputs": [],
   "source": [
    "\"\"\"22) Qual è il metodo da utilizzare se si vuole cercare una corrispondenza esatta con l'intera stringa?\"\"\"\n",
    "#si tratta del metodo fullmatch"
   ]
  },
  {
   "cell_type": "code",
   "execution_count": null,
   "id": "f1c09d13",
   "metadata": {},
   "outputs": [],
   "source": [
    "\"\"\"23) Quale metodo utilizzare per sostituire tutte le occorrenze della regex con un'altra stringa?\"\"\"\n",
    "#si tratta del metodo sub del modulo re"
   ]
  },
  {
   "cell_type": "code",
   "execution_count": null,
   "id": "49ed6a22",
   "metadata": {},
   "outputs": [],
   "source": [
    "\"\"\"24) Qual è l'opzione da utilizzare per impostare la ricerca dot-all?\"\"\""
   ]
  },
  {
   "cell_type": "code",
   "execution_count": null,
   "id": "52bc378f",
   "metadata": {},
   "outputs": [],
   "source": [
    "\"\"\"25) Qual è l'opzione da utilizzare per impostare l'uso del flag UNICODE?\"\"\""
   ]
  },
  {
   "cell_type": "code",
   "execution_count": null,
   "id": "77681ebb",
   "metadata": {},
   "outputs": [],
   "source": [
    "\"\"\"26) Quale metodo utilizzare per trovare tutte le corrispondenze della regex in una stringa?\"\"\"\n",
    "# findall"
   ]
  },
  {
   "cell_type": "code",
   "execution_count": null,
   "id": "69238ebe",
   "metadata": {},
   "outputs": [],
   "source": [
    "\"\"\"27) Cosa fa il metodo re.escape()?\"\"\""
   ]
  },
  {
   "cell_type": "code",
   "execution_count": null,
   "id": "6b406c4c",
   "metadata": {},
   "outputs": [],
   "source": [
    "\"\"\"28) Cosa fa il metodo re.purge()?\"\"\""
   ]
  },
  {
   "cell_type": "code",
   "execution_count": null,
   "id": "2b496f82",
   "metadata": {},
   "outputs": [],
   "source": [
    "\"\"\"29) Qual è l'opzione da utilizzare per impostare la ricerca multilinea?\"\"\""
   ]
  }
 ],
 "metadata": {
  "kernelspec": {
   "display_name": "env",
   "language": "python",
   "name": "python3"
  },
  "language_info": {
   "codemirror_mode": {
    "name": "ipython",
    "version": 3
   },
   "file_extension": ".py",
   "mimetype": "text/x-python",
   "name": "python",
   "nbconvert_exporter": "python",
   "pygments_lexer": "ipython3",
   "version": "3.13.3"
  }
 },
 "nbformat": 4,
 "nbformat_minor": 5
}
